{
  "nbformat": 4,
  "nbformat_minor": 0,
  "metadata": {
    "colab": {
      "provenance": [],
      "authorship_tag": "ABX9TyNBAlemKqem9Nay01RNmSFU",
      "include_colab_link": true
    },
    "kernelspec": {
      "name": "python3",
      "display_name": "Python 3"
    },
    "language_info": {
      "name": "python"
    }
  },
  "cells": [
    {
      "cell_type": "markdown",
      "metadata": {
        "id": "view-in-github",
        "colab_type": "text"
      },
      "source": [
        "<a href=\"https://colab.research.google.com/github/lhsluis/TranscreveAudio/blob/main/TranscreveAudio.ipynb\" target=\"_parent\"><img src=\"https://colab.research.google.com/assets/colab-badge.svg\" alt=\"Open In Colab\"/></a>"
      ]
    },
    {
      "cell_type": "code",
      "source": [
        "\"\"\"\n",
        "At the command line, only need to run once to install the package via pip:\n",
        "\n",
        "$ pip install google-generativeai\n",
        "\"\"\"\n",
        "!pip install -q -U google-generativeai"
      ],
      "metadata": {
        "id": "0_DevdQpWyRr"
      },
      "execution_count": 4,
      "outputs": []
    },
    {
      "cell_type": "code",
      "execution_count": 5,
      "metadata": {
        "colab": {
          "base_uri": "https://localhost:8080/",
          "height": 245
        },
        "id": "NYmtJBPb3kRH",
        "outputId": "ebf711ce-d6c2-44cd-99a0-8db52ad29f75"
      },
      "outputs": [
        {
          "output_type": "stream",
          "name": "stdout",
          "text": [
            "Ah, tô com você. O que você falar pra mim, nós faz. \n",
            "\n",
            "Dá pra nós fazer, pô, louco. \n",
            "\n",
            "Nem que você comprar só uns espetinho só pra nós trocar uma ideia ali. \n",
            "\n",
            "É... cê quer que eu espero você? Aí a gente vai lá sem pressa, tranquilo? Porque eu também não tenho pressa, já que você vai dormir aí, então também não tem, não tem pressa. \n",
            "\n",
            "Pode ser? Aí eu aguardo o sinal e vai lá então. \n",
            "\n",
            "Aí se caso você quiser sair uma hora mais cedo daí pra... uma meio-dia nós ia atrás das coisas e uma hora nós tá começando com o churrasquinho, né? E... você vê aí. Beleza? \n",
            "\n"
          ]
        }
      ],
      "source": [
        "from pathlib import Path\n",
        "import hashlib\n",
        "import google.generativeai as genai\n",
        "from google.colab import files\n",
        "from IPython.display import clear_output\n",
        "import os\n",
        "\n",
        "from google.colab import userdata\n",
        "mykey = userdata.get('GEMINI_API_KEY')\n",
        "\n",
        "genai.configure(api_key=mykey)\n",
        "clear_output()\n",
        "# Função para upload do arquivo\n",
        "def upload_audio():\n",
        "  uploaded = files.upload()\n",
        "  for filename in uploaded.keys():\n",
        "    return filename\n",
        "\n",
        "# Executa a função e obtém o nome do arquivo\n",
        "audio_filename = upload_audio()\n",
        "\n",
        "\n",
        "audio_path = f\"/content/{audio_filename}\"\n",
        "\n",
        "\n",
        "# Set up the model\n",
        "generation_config = {\n",
        "  \"temperature\": 0.5,\n",
        "  \"top_p\": 0.95,\n",
        "  \"top_k\": 0,\n",
        "  \"max_output_tokens\": 8192,\n",
        "}\n",
        "\n",
        "safety_settings = [\n",
        "  {\n",
        "    \"category\": \"HARM_CATEGORY_HARASSMENT\",\n",
        "    \"threshold\": \"BLOCK_MEDIUM_AND_ABOVE\"\n",
        "  },\n",
        "  {\n",
        "    \"category\": \"HARM_CATEGORY_HATE_SPEECH\",\n",
        "    \"threshold\": \"BLOCK_MEDIUM_AND_ABOVE\"\n",
        "  },\n",
        "  {\n",
        "    \"category\": \"HARM_CATEGORY_SEXUALLY_EXPLICIT\",\n",
        "    \"threshold\": \"BLOCK_NONE\"\n",
        "  },\n",
        "  {\n",
        "    \"category\": \"HARM_CATEGORY_DANGEROUS_CONTENT\",\n",
        "    \"threshold\": \"BLOCK_MEDIUM_AND_ABOVE\"\n",
        "  },\n",
        "]\n",
        "\n",
        "model = genai.GenerativeModel(model_name=\"gemini-1.5-pro-latest\",\n",
        "                              generation_config=generation_config,\n",
        "                              safety_settings=safety_settings)\n",
        "convo = model.start_chat(history=[\n",
        "  {\n",
        "    \"role\": \"user\",\n",
        "    \"parts\": [genai.upload_file(audio_path)]\n",
        "  }\n",
        "])\n",
        "\n",
        "\n",
        "clear_output()\n",
        "convo.send_message(\"transcreva o seguinte audio, o audio esta em português do Brasil em sua transcrição insira uma quebra de linha sempre que chegar a um ponto final\")\n",
        "print(convo.last.text)\n",
        "os.remove(audio_path)"
      ]
    }
  ]
}