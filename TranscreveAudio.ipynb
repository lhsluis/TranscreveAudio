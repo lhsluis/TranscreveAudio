{
  "nbformat": 4,
  "nbformat_minor": 0,
  "metadata": {
    "colab": {
      "provenance": [],
      "authorship_tag": "ABX9TyMFlgbt89XK2oHAhhe+9suf",
      "include_colab_link": true
    },
    "kernelspec": {
      "name": "python3",
      "display_name": "Python 3"
    },
    "language_info": {
      "name": "python"
    }
  },
  "cells": [
    {
      "cell_type": "markdown",
      "metadata": {
        "id": "view-in-github",
        "colab_type": "text"
      },
      "source": [
        "<a href=\"https://colab.research.google.com/github/lhsluis/TranscreveAudio/blob/main/TranscreveAudio.ipynb\" target=\"_parent\"><img src=\"https://colab.research.google.com/assets/colab-badge.svg\" alt=\"Open In Colab\"/></a>"
      ]
    },
    {
      "cell_type": "markdown",
      "source": [
        "\n",
        "\n",
        "*   Criado por: Luís Henrique Santos\n",
        "*   Data: 09/05/2024\n",
        "*   Versão: 1.0\n",
        "*   Descrição: A idéia é utilizar o Gemini para transcrever áudios, principalmente os do whatsapp, futuramente quero incluir isso em um chatbot automatizado (seja no próprio whatsapp ou no telegram) onde o usuário envia o áudio e ele é devolvido transcrito.\n",
        "*   Obs.: Os comentários detalhados foram inseridos diretamente no código\n",
        "\n",
        "\n",
        "\n",
        "\n",
        "\n",
        "\n",
        "\n",
        "\n"
      ],
      "metadata": {
        "id": "06CkEu8cel3t"
      }
    },
    {
      "cell_type": "code",
      "source": [
        "# Instalando as dependencias\n",
        "!pip install -q -U google-generativeai"
      ],
      "metadata": {
        "id": "0_DevdQpWyRr"
      },
      "execution_count": 9,
      "outputs": []
    },
    {
      "cell_type": "code",
      "execution_count": null,
      "metadata": {
        "id": "NYmtJBPb3kRH"
      },
      "outputs": [],
      "source": [
        "# importando as bibliotecas necessárias\n",
        "from pathlib import Path\n",
        "import hashlib\n",
        "import google.generativeai as genai\n",
        "from google.colab import files\n",
        "from IPython.display import clear_output\n",
        "import os\n",
        "\n",
        "# Não esqueça de configurar aqui sua KEY junto aos secrets do colab\n",
        "from google.colab import userdata\n",
        "mykey = userdata.get('GEMINI_API_KEY')\n",
        "\n",
        "# Passando a key para a API\n",
        "genai.configure(api_key=mykey)\n",
        "\n",
        "# Função para upload do arquivo\n",
        "def upload_audio():\n",
        "  uploaded = files.upload()\n",
        "  for filename in uploaded.keys():\n",
        "    return filename\n",
        "\n",
        "# Executa a função de upload e obtém o nome do arquivo\n",
        "audio_filename = upload_audio()\n",
        "\n",
        "# Guarda o path do arquivo que foi feito o upload\n",
        "audio_path = f\"/content/{audio_filename}\"\n",
        "\n",
        "\n",
        "# Configurando o modelo\n",
        "generation_config = {\n",
        "  \"temperature\": 0.5,\n",
        "  \"top_p\": 0.95,\n",
        "  \"top_k\": 0,\n",
        "  \"max_output_tokens\": 8192,\n",
        "}\n",
        "\n",
        "# Setando as configurações de segurança\n",
        "# Como a ideia é a transcrição de áudios informais e principalmente do dia a dia\n",
        "# baixei o threshold da categoria SEXUALLY_EXPLICIT pois ele estava entendendo algumas expressões do dia a dia como impróprias.\n",
        "safety_settings = [\n",
        "  {\n",
        "    \"category\": \"HARM_CATEGORY_HARASSMENT\",\n",
        "    \"threshold\": \"BLOCK_MEDIUM_AND_ABOVE\"\n",
        "  },\n",
        "  {\n",
        "    \"category\": \"HARM_CATEGORY_HATE_SPEECH\",\n",
        "    \"threshold\": \"BLOCK_MEDIUM_AND_ABOVE\"\n",
        "  },\n",
        "  {\n",
        "    \"category\": \"HARM_CATEGORY_SEXUALLY_EXPLICIT\",\n",
        "    \"threshold\": \"BLOCK_NONE\"\n",
        "  },\n",
        "  {\n",
        "    \"category\": \"HARM_CATEGORY_DANGEROUS_CONTENT\",\n",
        "    \"threshold\": \"BLOCK_MEDIUM_AND_ABOVE\"\n",
        "  },\n",
        "]\n",
        "\n",
        "# Inicializando o Modelo com as configurações do passo anterior\n",
        "model = genai.GenerativeModel(model_name=\"gemini-1.5-pro-latest\",\n",
        "                              generation_config=generation_config,\n",
        "                              safety_settings=safety_settings)\n",
        "\n",
        "# Iniciando o chat history com o upload do arquivo escolhido que ja foi salvo\n",
        "# na estrutura de pastas do colab no passo anterior\n",
        "convo = model.start_chat(history=[\n",
        "  {\n",
        "    \"role\": \"user\",\n",
        "    \"parts\": [genai.upload_file(audio_path)]\n",
        "  }\n",
        "])\n",
        "\n",
        "# limpando o output para quando se executa repetidas vezes\n",
        "clear_output()\n",
        "\n",
        "# enviando o prompt de comando para a transcrição\n",
        "convo.send_message(\"Transcreva o seguinte áudio, o áudio esta em português do Brasil, em sua transcrição insira uma quebra de linha sempre que chegar a um ponto final\")\n",
        "\n",
        "# escrevendo a transcrição\n",
        "print(convo.last.text)\n",
        "\n",
        "# apagando o arquivo ja transcrito\n",
        "os.remove(audio_path)"
      ]
    },
    {
      "cell_type": "markdown",
      "source": [
        "Ps.: Notei que o modelo acaba aluciando com audios muito curtos, em alguns áudios de teste de 5 segundos ou menos ele acaba por criar todo um plot que não tem nada a ver com o áudio em si.\n"
      ],
      "metadata": {
        "id": "wRvl3c77e9-G"
      }
    }
  ]
}